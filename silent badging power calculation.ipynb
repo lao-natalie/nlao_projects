{
 "cells": [
  {
   "cell_type": "code",
   "execution_count": 1,
   "id": "868ce6d7",
   "metadata": {},
   "outputs": [],
   "source": [
    "import numpy as np\n",
    "import pandas as pd\n",
    "import scipy.stats as sp"
   ]
  },
  {
   "cell_type": "markdown",
   "id": "973030d3",
   "metadata": {},
   "source": [
    "### Notes on computing runtime for silent badging experiment\n",
    "- the experiment runtime can be determined using a [calculator](https://www.experimentcalculator.com/) as normal\n",
    "- instead of computing browsers per day that the experiment has been running, I'd compute time to power using bucketing batches and compute browsers per batch\n",
    "- these experiments are much lower coverage so it may make sense to power for larger lift sizes"
   ]
  },
  {
   "cell_type": "markdown",
   "id": "ac09ed33",
   "metadata": {},
   "source": [
    "### Computing current experiment power"
   ]
  },
  {
   "cell_type": "markdown",
   "id": "a801574b",
   "metadata": {},
   "source": [
    "Power function for proportion metrics. From [catapult stats library](https://github.com/etsy-dev/catapult-stats/blob/main/src/catapultstats/ztest.py)"
   ]
  },
  {
   "cell_type": "code",
   "execution_count": 2,
   "id": "9179cd64",
   "metadata": {},
   "outputs": [],
   "source": [
    "def power_proportion_metric(\n",
    "    mean_control: np.ndarray,\n",
    "    sample_size_control: np.ndarray,\n",
    "    sample_size_treatment: np.ndarray,\n",
    "    percent_lift: np.ndarray,\n",
    "    alpha: float = 0.05,\n",
    ") -> np.ndarray:\n",
    "    \"\"\"Calculates the current power of the proportion metric (vectorized).\n",
    "\n",
    "    Taken from Etsyweb:\n",
    "    'Power calculation for two sample test for proportions taken directly\n",
    "    from the R function `pwr.2p2n.test`\n",
    "    https://www.rdocumentation.org/packages/pwr/versions/1.2-0/topics/pwr.2p2n.test'\n",
    "\n",
    "    Args:\n",
    "        mean_control: The mean of the control group.\n",
    "        sample_size_control: The sample size of the control group.\n",
    "        sample_size_treatment: The sample size of the treatment group.\n",
    "        percent_lift: The expected percent lift in the metric (scale: [0, 100]).\n",
    "        alpha: The significance threshold.\n",
    "\n",
    "    Returns:\n",
    "        A numpy array containing the power calculations for the proportion\n",
    "        metrics provided — or NaN if these calculations can't be computed.\n",
    "    \"\"\"\n",
    "    p1: np.ndarray = mean_control\n",
    "    p2: np.ndarray = mean_control * (1 + percent_lift / 100)\n",
    "    p2 = np.minimum(p2, 1)\n",
    "\n",
    "    result: np.ndarray = np.full(len(mean_control), np.nan)\n",
    "    row_idx: np.ndarray = (\n",
    "        (p1 != 0) & (p2 != 0) & (sample_size_control + sample_size_treatment > 0)\n",
    "    )\n",
    "\n",
    "    # Non-directional h, magnitude of difference\n",
    "    h: np.ndarray = np.abs(\n",
    "        2 * np.arcsin(np.sqrt(np.maximum(p1[row_idx], 0)))\n",
    "        - 2 * np.arcsin(np.sqrt(np.maximum(p2[row_idx], 0)))\n",
    "    )\n",
    "\n",
    "    temp: np.ndarray = np.maximum(\n",
    "        (sample_size_control[row_idx] * sample_size_treatment[row_idx])\n",
    "        / (sample_size_control[row_idx] + sample_size_treatment[row_idx]),\n",
    "        0,\n",
    "    )\n",
    "    power: np.ndarray = (\n",
    "        1\n",
    "        - sp.norm.cdf(-sp.norm.ppf(alpha / 2) - h * np.sqrt(temp))\n",
    "        + sp.norm.cdf(sp.norm.ppf(alpha / 2) - h * np.sqrt(temp))\n",
    "    )\n",
    "    result[row_idx] = power\n",
    "\n",
    "    return result"
   ]
  },
  {
   "cell_type": "markdown",
   "id": "ce53234c",
   "metadata": {},
   "source": [
    "Compute power for experiment as of 6/7 - power for 1 & 2% lifts"
   ]
  },
  {
   "cell_type": "code",
   "execution_count": 16,
   "id": "048436ca",
   "metadata": {},
   "outputs": [
    {
     "data": {
      "text/plain": [
       "array([0.7095945 , 0.99886734])"
      ]
     },
     "execution_count": 16,
     "metadata": {},
     "output_type": "execute_result"
    }
   ],
   "source": [
    "power_proportion_metric(\n",
    "    mean_control = np.array([0.0813, 0.0813]),\n",
    "    sample_size_control = np.array([1433375, 1433375]),\n",
    "    sample_size_treatment = np.array([1432167, 1432167]),\n",
    "    percent_lift = np.array([1, 2])\n",
    ")"
   ]
  },
  {
   "cell_type": "code",
   "execution_count": null,
   "id": "297ba1ab",
   "metadata": {},
   "outputs": [],
   "source": []
  }
 ],
 "metadata": {
  "kernelspec": {
   "display_name": "Python 3 (ipykernel)",
   "language": "python",
   "name": "python3"
  },
  "language_info": {
   "codemirror_mode": {
    "name": "ipython",
    "version": 3
   },
   "file_extension": ".py",
   "mimetype": "text/x-python",
   "name": "python",
   "nbconvert_exporter": "python",
   "pygments_lexer": "ipython3",
   "version": "3.9.6"
  }
 },
 "nbformat": 4,
 "nbformat_minor": 5
}
